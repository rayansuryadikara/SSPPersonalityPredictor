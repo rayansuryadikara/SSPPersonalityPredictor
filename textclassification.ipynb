{
 "cells": [
  {
   "cell_type": "code",
   "execution_count": null,
   "metadata": {},
   "outputs": [],
   "source": [
    "from sklearn.datasets import fetch_20newsgroups\n",
    "from sklearn.feature_extraction.text import CountVectorizer\n",
    "from sklearn.feature_extraction.text import TfidfVectorizer\n",
    "from sklearn.naive_bayes import MultinomialNB\n",
    "from sklearn.linear_model import SGDClassifier\n",
    "from sklearn.neighbors import KNeighborsClassifier\n",
    "from sklearn.metrics import classification_report"
   ]
  },
  {
   "cell_type": "code",
   "execution_count": null,
   "metadata": {},
   "outputs": [],
   "source": [
    "def text_classification(prep, clas, tr_data, ts_data, tr_target, ts_target, twe):\n",
    "    \n",
    "    if prep==1:     \n",
    "        vect = CountVectorizer()\n",
    "        if twe:\n",
    "            vect = CountVectorizer(lowercase=False, stop_words='english', analyzer='char', ngram_range=(1,3), max_features=10000)\n",
    "    elif prep==2:\n",
    "        vect = TfidfVectorizer(use_idf=False)\n",
    "        if twe:\n",
    "            vect = TfidfVectorizer(use_idf=False, lowercase=False, stop_words='english', analyzer='char', ngram_range=(1,3), max_features=10000)\n",
    "    elif prep==3:\n",
    "        vect = TfidfVectorizer()\n",
    "        if twe:\n",
    "            vect = TfidfVectorizer(lowercase=False, stop_words='english', analyzer='char', ngram_range=(1,3), max_features=10000)\n",
    "        \n",
    "    train_vect = vect.fit_transform(tr_data)\n",
    "    test_vect = vect.transform(ts_data)\n",
    "    \n",
    "    if clas==1:     \n",
    "        clf = MultinomialNB().fit(train_vect, tr_target)\n",
    "    elif clas==2:\n",
    "        clf = SGDClassifier().fit(train_vect, tr_target)\n",
    "    elif clas==3:\n",
    "        clf = KNeighborsClassifier().fit(train_vect, tr_target)\n",
    "\n",
    "    prd = clf.predict(test_vect)\n",
    "    return prd"
   ]
  },
  {
   "cell_type": "code",
   "execution_count": null,
   "metadata": {},
   "outputs": [],
   "source": [
    "twenty_train = fetch_20newsgroups(subset='train', remove=('headers', 'footers', 'quotes'), shuffle=True, random_state=42)\n",
    "twenty_test = fetch_20newsgroups(subset='test', remove=('headers', 'footers', 'quotes'), shuffle=True, random_state=42)\n",
    "\n",
    "listpre = [\"Count Vectorizer\", \"TF Vectorizer\", \"TF-IDF Vectorizer\"]\n",
    "listcls = [\"Naive Bayes\", \"Stochastic Gradient Descent\", \"K-Nearest Neighbors\"]"
   ]
  },
  {
   "cell_type": "code",
   "execution_count": null,
   "metadata": {},
   "outputs": [],
   "source": [
    "while True:\n",
    "    print(\"Preprocessors:\")\n",
    "    print(\"1. Count Vectorizer\")\n",
    "    print(\"2. TF Vectorizer\")\n",
    "    print(\"3. TF-IDF Vectorizer\")\n",
    "    preinp = int(input(\"Please choose preprocessors based on the number: \"))\n",
    "    if preinp >= 1 and preinp <= 3:\n",
    "        break;\n",
    "    else:\n",
    "        print(\"Wrong number! Try again.\")\n",
    "\n",
    "while True:\n",
    "    print(\"Classifiers:\")\n",
    "    print(\"1. Naive Bayes\")\n",
    "    print(\"2. Stochastic Gradient Descent\")\n",
    "    print(\"3. K-Neighbors\")\n",
    "    clsinp = int(input(\"Please choose classifiers based on the number: \"))\n",
    "    if clsinp >= 1 and clsinp <= 3:\n",
    "        break;\n",
    "    else:\n",
    "        print(\"Wrong number! Try again.\")\n",
    "\n",
    "while True:\n",
    "    tweinp = input(\"Please type Y or N for tweaking the vectorizer parameters: \")\n",
    "    if tweinp == 'Y' or tweinp == 'y':\n",
    "        tweinp = True\n",
    "        break;\n",
    "    elif tweinp == 'N' or tweinp == 'n':\n",
    "        tweinp = False\n",
    "        break;\n",
    "    else:\n",
    "        print(\"Wrong letter! Try again.\")"
   ]
  },
  {
   "cell_type": "code",
   "execution_count": null,
   "metadata": {},
   "outputs": [],
   "source": [
    "pred = text_classification(preinp, clsinp, \n",
    "                    twenty_train.data, twenty_test.data,\n",
    "                    twenty_train.target, twenty_test.target, tweinp)"
   ]
  },
  {
   "cell_type": "code",
   "execution_count": null,
   "metadata": {},
   "outputs": [],
   "source": [
    "if tweinp:\n",
    "    tweinp = \"with\"\n",
    "else:\n",
    "    tweinp = \"without\"\n",
    "print(\"Classification Report for\", listpre[preinp-1], \"&\", listcls[clsinp-1], \"%s tweaking.\"%tweinp)\n",
    "print(classification_report(twenty_test.target, pred, target_names=twenty_test.target_names))"
   ]
  }
 ],
 "metadata": {
  "kernelspec": {
   "display_name": "Python 3",
   "language": "python",
   "name": "python3"
  },
  "language_info": {
   "codemirror_mode": {
    "name": "ipython",
    "version": 3
   },
   "file_extension": ".py",
   "mimetype": "text/x-python",
   "name": "python",
   "nbconvert_exporter": "python",
   "pygments_lexer": "ipython3",
   "version": "3.7.3"
  }
 },
 "nbformat": 4,
 "nbformat_minor": 2
}
